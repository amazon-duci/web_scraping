{
 "cells": [
  {
   "cell_type": "markdown",
   "id": "b0ddec34-3098-4a45-9a85-6169c08e4de5",
   "metadata": {},
   "source": [
    "# PANDA"
   ]
  },
  {
   "cell_type": "code",
   "execution_count": 2,
   "id": "67a69358-ff79-4419-8bf0-caf8798adf54",
   "metadata": {},
   "outputs": [],
   "source": [
    "# Importing panda\n",
    "import pandas as pd"
   ]
  },
  {
   "cell_type": "code",
   "execution_count": 48,
   "id": "7a98a05f-8610-4a27-9b4e-ec0a05e24edb",
   "metadata": {},
   "outputs": [],
   "source": [
    "# loading a .csv file\n",
    "df1 = pd.read_csv('data.csv')"
   ]
  },
  {
   "cell_type": "code",
   "execution_count": 49,
   "id": "644c39fa-1a20-4e55-8bd6-d21800c1a19f",
   "metadata": {},
   "outputs": [
    {
     "data": {
      "text/html": [
       "<div>\n",
       "<style scoped>\n",
       "    .dataframe tbody tr th:only-of-type {\n",
       "        vertical-align: middle;\n",
       "    }\n",
       "\n",
       "    .dataframe tbody tr th {\n",
       "        vertical-align: top;\n",
       "    }\n",
       "\n",
       "    .dataframe thead th {\n",
       "        text-align: right;\n",
       "    }\n",
       "</style>\n",
       "<table border=\"1\" class=\"dataframe\">\n",
       "  <thead>\n",
       "    <tr style=\"text-align: right;\">\n",
       "      <th></th>\n",
       "      <th>IndicatorCode</th>\n",
       "      <th>Indicator</th>\n",
       "      <th>ValueType</th>\n",
       "      <th>ParentLocationCode</th>\n",
       "      <th>ParentLocation</th>\n",
       "      <th>Location type</th>\n",
       "      <th>SpatialDimValueCode</th>\n",
       "      <th>Location</th>\n",
       "      <th>Period type</th>\n",
       "      <th>Period</th>\n",
       "      <th>...</th>\n",
       "      <th>FactValueUoM</th>\n",
       "      <th>FactValueNumericLowPrefix</th>\n",
       "      <th>FactValueNumericLow</th>\n",
       "      <th>FactValueNumericHighPrefix</th>\n",
       "      <th>FactValueNumericHigh</th>\n",
       "      <th>Value</th>\n",
       "      <th>FactValueTranslationID</th>\n",
       "      <th>FactComments</th>\n",
       "      <th>Language</th>\n",
       "      <th>DateModified</th>\n",
       "    </tr>\n",
       "  </thead>\n",
       "  <tbody>\n",
       "    <tr>\n",
       "      <th>0</th>\n",
       "      <td>HWF_0001</td>\n",
       "      <td>Medical doctors (per 10,000)</td>\n",
       "      <td>numeric</td>\n",
       "      <td>AFR</td>\n",
       "      <td>Africa</td>\n",
       "      <td>Country</td>\n",
       "      <td>NER</td>\n",
       "      <td>Niger</td>\n",
       "      <td>Year</td>\n",
       "      <td>2023</td>\n",
       "      <td>...</td>\n",
       "      <td>NaN</td>\n",
       "      <td>NaN</td>\n",
       "      <td>NaN</td>\n",
       "      <td>NaN</td>\n",
       "      <td>NaN</td>\n",
       "      <td>0.38</td>\n",
       "      <td>NaN</td>\n",
       "      <td>NHWA data portal, December 2024 update https:/...</td>\n",
       "      <td>EN</td>\n",
       "      <td>2025-01-14 00:00:00</td>\n",
       "    </tr>\n",
       "    <tr>\n",
       "      <th>1</th>\n",
       "      <td>HWF_0001</td>\n",
       "      <td>Medical doctors (per 10,000)</td>\n",
       "      <td>numeric</td>\n",
       "      <td>WPR</td>\n",
       "      <td>Western Pacific</td>\n",
       "      <td>Country</td>\n",
       "      <td>PNG</td>\n",
       "      <td>Papua New Guinea</td>\n",
       "      <td>Year</td>\n",
       "      <td>2023</td>\n",
       "      <td>...</td>\n",
       "      <td>NaN</td>\n",
       "      <td>NaN</td>\n",
       "      <td>NaN</td>\n",
       "      <td>NaN</td>\n",
       "      <td>NaN</td>\n",
       "      <td>0.61</td>\n",
       "      <td>NaN</td>\n",
       "      <td>NHWA data portal, December 2024 update https:/...</td>\n",
       "      <td>EN</td>\n",
       "      <td>2025-01-14 00:00:00</td>\n",
       "    </tr>\n",
       "    <tr>\n",
       "      <th>2</th>\n",
       "      <td>HWF_0001</td>\n",
       "      <td>Medical doctors (per 10,000)</td>\n",
       "      <td>numeric</td>\n",
       "      <td>AFR</td>\n",
       "      <td>Africa</td>\n",
       "      <td>Country</td>\n",
       "      <td>CAF</td>\n",
       "      <td>Central African Republic</td>\n",
       "      <td>Year</td>\n",
       "      <td>2023</td>\n",
       "      <td>...</td>\n",
       "      <td>NaN</td>\n",
       "      <td>NaN</td>\n",
       "      <td>NaN</td>\n",
       "      <td>NaN</td>\n",
       "      <td>NaN</td>\n",
       "      <td>0.74</td>\n",
       "      <td>NaN</td>\n",
       "      <td>NHWA data portal, December 2024 update https:/...</td>\n",
       "      <td>EN</td>\n",
       "      <td>2025-01-14 00:00:00</td>\n",
       "    </tr>\n",
       "    <tr>\n",
       "      <th>3</th>\n",
       "      <td>HWF_0001</td>\n",
       "      <td>Medical doctors (per 10,000)</td>\n",
       "      <td>numeric</td>\n",
       "      <td>AFR</td>\n",
       "      <td>Africa</td>\n",
       "      <td>Country</td>\n",
       "      <td>TCD</td>\n",
       "      <td>Chad</td>\n",
       "      <td>Year</td>\n",
       "      <td>2023</td>\n",
       "      <td>...</td>\n",
       "      <td>NaN</td>\n",
       "      <td>NaN</td>\n",
       "      <td>NaN</td>\n",
       "      <td>NaN</td>\n",
       "      <td>NaN</td>\n",
       "      <td>0.85</td>\n",
       "      <td>NaN</td>\n",
       "      <td>NHWA data portal, December 2024 update https:/...</td>\n",
       "      <td>EN</td>\n",
       "      <td>2025-01-14 00:00:00</td>\n",
       "    </tr>\n",
       "    <tr>\n",
       "      <th>4</th>\n",
       "      <td>HWF_0001</td>\n",
       "      <td>Medical doctors (per 10,000)</td>\n",
       "      <td>numeric</td>\n",
       "      <td>AFR</td>\n",
       "      <td>Africa</td>\n",
       "      <td>Country</td>\n",
       "      <td>GMB</td>\n",
       "      <td>Gambia</td>\n",
       "      <td>Year</td>\n",
       "      <td>2023</td>\n",
       "      <td>...</td>\n",
       "      <td>NaN</td>\n",
       "      <td>NaN</td>\n",
       "      <td>NaN</td>\n",
       "      <td>NaN</td>\n",
       "      <td>NaN</td>\n",
       "      <td>0.9</td>\n",
       "      <td>NaN</td>\n",
       "      <td>NHWA data portal, December 2024 update https:/...</td>\n",
       "      <td>EN</td>\n",
       "      <td>2025-01-14 00:00:00</td>\n",
       "    </tr>\n",
       "    <tr>\n",
       "      <th>...</th>\n",
       "      <td>...</td>\n",
       "      <td>...</td>\n",
       "      <td>...</td>\n",
       "      <td>...</td>\n",
       "      <td>...</td>\n",
       "      <td>...</td>\n",
       "      <td>...</td>\n",
       "      <td>...</td>\n",
       "      <td>...</td>\n",
       "      <td>...</td>\n",
       "      <td>...</td>\n",
       "      <td>...</td>\n",
       "      <td>...</td>\n",
       "      <td>...</td>\n",
       "      <td>...</td>\n",
       "      <td>...</td>\n",
       "      <td>...</td>\n",
       "      <td>...</td>\n",
       "      <td>...</td>\n",
       "      <td>...</td>\n",
       "      <td>...</td>\n",
       "    </tr>\n",
       "    <tr>\n",
       "      <th>14003</th>\n",
       "      <td>HWF_0005</td>\n",
       "      <td>Medical doctors not further defined (number)</td>\n",
       "      <td>numeric</td>\n",
       "      <td>EUR</td>\n",
       "      <td>Europe</td>\n",
       "      <td>Country</td>\n",
       "      <td>GBR</td>\n",
       "      <td>United Kingdom of Great Britain and Northern I...</td>\n",
       "      <td>Year</td>\n",
       "      <td>1960</td>\n",
       "      <td>...</td>\n",
       "      <td>NaN</td>\n",
       "      <td>NaN</td>\n",
       "      <td>NaN</td>\n",
       "      <td>NaN</td>\n",
       "      <td>NaN</td>\n",
       "      <td>44 457</td>\n",
       "      <td>NaN</td>\n",
       "      <td>NHWA data portal, December 2024 update https:/...</td>\n",
       "      <td>EN</td>\n",
       "      <td>2025-01-14 00:00:00</td>\n",
       "    </tr>\n",
       "    <tr>\n",
       "      <th>14004</th>\n",
       "      <td>HWF_0005</td>\n",
       "      <td>Medical doctors not further defined (number)</td>\n",
       "      <td>numeric</td>\n",
       "      <td>EUR</td>\n",
       "      <td>Europe</td>\n",
       "      <td>Country</td>\n",
       "      <td>PRT</td>\n",
       "      <td>Portugal</td>\n",
       "      <td>Year</td>\n",
       "      <td>1960</td>\n",
       "      <td>...</td>\n",
       "      <td>NaN</td>\n",
       "      <td>NaN</td>\n",
       "      <td>NaN</td>\n",
       "      <td>NaN</td>\n",
       "      <td>NaN</td>\n",
       "      <td>6701</td>\n",
       "      <td>NaN</td>\n",
       "      <td>NHWA data portal, December 2024 update https:/...</td>\n",
       "      <td>EN</td>\n",
       "      <td>2025-01-14 00:00:00</td>\n",
       "    </tr>\n",
       "    <tr>\n",
       "      <th>14005</th>\n",
       "      <td>HWF_0005</td>\n",
       "      <td>Medical doctors not further defined (number)</td>\n",
       "      <td>numeric</td>\n",
       "      <td>EUR</td>\n",
       "      <td>Europe</td>\n",
       "      <td>Country</td>\n",
       "      <td>CHE</td>\n",
       "      <td>Switzerland</td>\n",
       "      <td>Year</td>\n",
       "      <td>1960</td>\n",
       "      <td>...</td>\n",
       "      <td>NaN</td>\n",
       "      <td>NaN</td>\n",
       "      <td>NaN</td>\n",
       "      <td>NaN</td>\n",
       "      <td>NaN</td>\n",
       "      <td>7442</td>\n",
       "      <td>NaN</td>\n",
       "      <td>NHWA data portal, December 2024 update https:/...</td>\n",
       "      <td>EN</td>\n",
       "      <td>2025-01-14 00:00:00</td>\n",
       "    </tr>\n",
       "    <tr>\n",
       "      <th>14006</th>\n",
       "      <td>HWF_0005</td>\n",
       "      <td>Medical doctors not further defined (number)</td>\n",
       "      <td>numeric</td>\n",
       "      <td>EUR</td>\n",
       "      <td>Europe</td>\n",
       "      <td>Country</td>\n",
       "      <td>TUR</td>\n",
       "      <td>Türkiye</td>\n",
       "      <td>Year</td>\n",
       "      <td>1960</td>\n",
       "      <td>...</td>\n",
       "      <td>NaN</td>\n",
       "      <td>NaN</td>\n",
       "      <td>NaN</td>\n",
       "      <td>NaN</td>\n",
       "      <td>NaN</td>\n",
       "      <td>8214</td>\n",
       "      <td>NaN</td>\n",
       "      <td>NHWA data portal, December 2024 update https:/...</td>\n",
       "      <td>EN</td>\n",
       "      <td>2025-01-14 00:00:00</td>\n",
       "    </tr>\n",
       "    <tr>\n",
       "      <th>14007</th>\n",
       "      <td>HWF_0005</td>\n",
       "      <td>Medical doctors not further defined (number)</td>\n",
       "      <td>numeric</td>\n",
       "      <td>WPR</td>\n",
       "      <td>Western Pacific</td>\n",
       "      <td>Country</td>\n",
       "      <td>JPN</td>\n",
       "      <td>Japan</td>\n",
       "      <td>Year</td>\n",
       "      <td>1960</td>\n",
       "      <td>...</td>\n",
       "      <td>NaN</td>\n",
       "      <td>NaN</td>\n",
       "      <td>NaN</td>\n",
       "      <td>NaN</td>\n",
       "      <td>NaN</td>\n",
       "      <td>96 038</td>\n",
       "      <td>NaN</td>\n",
       "      <td>NHWA data portal, December 2024 update https:/...</td>\n",
       "      <td>EN</td>\n",
       "      <td>2025-01-14 00:00:00</td>\n",
       "    </tr>\n",
       "  </tbody>\n",
       "</table>\n",
       "<p>14008 rows × 34 columns</p>\n",
       "</div>"
      ],
      "text/plain": [
       "      IndicatorCode                                     Indicator ValueType  \\\n",
       "0          HWF_0001                  Medical doctors (per 10,000)   numeric   \n",
       "1          HWF_0001                  Medical doctors (per 10,000)   numeric   \n",
       "2          HWF_0001                  Medical doctors (per 10,000)   numeric   \n",
       "3          HWF_0001                  Medical doctors (per 10,000)   numeric   \n",
       "4          HWF_0001                  Medical doctors (per 10,000)   numeric   \n",
       "...             ...                                           ...       ...   \n",
       "14003      HWF_0005  Medical doctors not further defined (number)   numeric   \n",
       "14004      HWF_0005  Medical doctors not further defined (number)   numeric   \n",
       "14005      HWF_0005  Medical doctors not further defined (number)   numeric   \n",
       "14006      HWF_0005  Medical doctors not further defined (number)   numeric   \n",
       "14007      HWF_0005  Medical doctors not further defined (number)   numeric   \n",
       "\n",
       "      ParentLocationCode   ParentLocation Location type SpatialDimValueCode  \\\n",
       "0                    AFR           Africa       Country                 NER   \n",
       "1                    WPR  Western Pacific       Country                 PNG   \n",
       "2                    AFR           Africa       Country                 CAF   \n",
       "3                    AFR           Africa       Country                 TCD   \n",
       "4                    AFR           Africa       Country                 GMB   \n",
       "...                  ...              ...           ...                 ...   \n",
       "14003                EUR           Europe       Country                 GBR   \n",
       "14004                EUR           Europe       Country                 PRT   \n",
       "14005                EUR           Europe       Country                 CHE   \n",
       "14006                EUR           Europe       Country                 TUR   \n",
       "14007                WPR  Western Pacific       Country                 JPN   \n",
       "\n",
       "                                                Location Period type  Period  \\\n",
       "0                                                  Niger        Year    2023   \n",
       "1                                       Papua New Guinea        Year    2023   \n",
       "2                               Central African Republic        Year    2023   \n",
       "3                                                   Chad        Year    2023   \n",
       "4                                                 Gambia        Year    2023   \n",
       "...                                                  ...         ...     ...   \n",
       "14003  United Kingdom of Great Britain and Northern I...        Year    1960   \n",
       "14004                                           Portugal        Year    1960   \n",
       "14005                                        Switzerland        Year    1960   \n",
       "14006                                            Türkiye        Year    1960   \n",
       "14007                                              Japan        Year    1960   \n",
       "\n",
       "       ...  FactValueUoM  FactValueNumericLowPrefix  FactValueNumericLow  \\\n",
       "0      ...           NaN                        NaN                  NaN   \n",
       "1      ...           NaN                        NaN                  NaN   \n",
       "2      ...           NaN                        NaN                  NaN   \n",
       "3      ...           NaN                        NaN                  NaN   \n",
       "4      ...           NaN                        NaN                  NaN   \n",
       "...    ...           ...                        ...                  ...   \n",
       "14003  ...           NaN                        NaN                  NaN   \n",
       "14004  ...           NaN                        NaN                  NaN   \n",
       "14005  ...           NaN                        NaN                  NaN   \n",
       "14006  ...           NaN                        NaN                  NaN   \n",
       "14007  ...           NaN                        NaN                  NaN   \n",
       "\n",
       "       FactValueNumericHighPrefix  FactValueNumericHigh   Value  \\\n",
       "0                             NaN                   NaN    0.38   \n",
       "1                             NaN                   NaN    0.61   \n",
       "2                             NaN                   NaN    0.74   \n",
       "3                             NaN                   NaN    0.85   \n",
       "4                             NaN                   NaN     0.9   \n",
       "...                           ...                   ...     ...   \n",
       "14003                         NaN                   NaN  44 457   \n",
       "14004                         NaN                   NaN    6701   \n",
       "14005                         NaN                   NaN    7442   \n",
       "14006                         NaN                   NaN    8214   \n",
       "14007                         NaN                   NaN  96 038   \n",
       "\n",
       "       FactValueTranslationID  \\\n",
       "0                         NaN   \n",
       "1                         NaN   \n",
       "2                         NaN   \n",
       "3                         NaN   \n",
       "4                         NaN   \n",
       "...                       ...   \n",
       "14003                     NaN   \n",
       "14004                     NaN   \n",
       "14005                     NaN   \n",
       "14006                     NaN   \n",
       "14007                     NaN   \n",
       "\n",
       "                                            FactComments  Language  \\\n",
       "0      NHWA data portal, December 2024 update https:/...        EN   \n",
       "1      NHWA data portal, December 2024 update https:/...        EN   \n",
       "2      NHWA data portal, December 2024 update https:/...        EN   \n",
       "3      NHWA data portal, December 2024 update https:/...        EN   \n",
       "4      NHWA data portal, December 2024 update https:/...        EN   \n",
       "...                                                  ...       ...   \n",
       "14003  NHWA data portal, December 2024 update https:/...        EN   \n",
       "14004  NHWA data portal, December 2024 update https:/...        EN   \n",
       "14005  NHWA data portal, December 2024 update https:/...        EN   \n",
       "14006  NHWA data portal, December 2024 update https:/...        EN   \n",
       "14007  NHWA data portal, December 2024 update https:/...        EN   \n",
       "\n",
       "              DateModified  \n",
       "0      2025-01-14 00:00:00  \n",
       "1      2025-01-14 00:00:00  \n",
       "2      2025-01-14 00:00:00  \n",
       "3      2025-01-14 00:00:00  \n",
       "4      2025-01-14 00:00:00  \n",
       "...                    ...  \n",
       "14003  2025-01-14 00:00:00  \n",
       "14004  2025-01-14 00:00:00  \n",
       "14005  2025-01-14 00:00:00  \n",
       "14006  2025-01-14 00:00:00  \n",
       "14007  2025-01-14 00:00:00  \n",
       "\n",
       "[14008 rows x 34 columns]"
      ]
     },
     "execution_count": 49,
     "metadata": {},
     "output_type": "execute_result"
    }
   ],
   "source": [
    "df1"
   ]
  },
  {
   "cell_type": "code",
   "execution_count": 51,
   "id": "3bd17ba9-4cd9-4b0b-aad4-106d24db0016",
   "metadata": {},
   "outputs": [
    {
     "name": "stdout",
     "output_type": "stream",
     "text": [
      "        ParentLocation                                           Location  \\\n",
      "0               Africa                                              Niger   \n",
      "1      Western Pacific                                   Papua New Guinea   \n",
      "2               Africa                           Central African Republic   \n",
      "3               Africa                                               Chad   \n",
      "4               Africa                                             Gambia   \n",
      "...                ...                                                ...   \n",
      "14003           Europe  United Kingdom of Great Britain and Northern I...   \n",
      "14004           Europe                                           Portugal   \n",
      "14005           Europe                                        Switzerland   \n",
      "14006           Europe                                            Türkiye   \n",
      "14007  Western Pacific                                              Japan   \n",
      "\n",
      "       Period         DateModified  \n",
      "0        2023  2025-01-14 00:00:00  \n",
      "1        2023  2025-01-14 00:00:00  \n",
      "2        2023  2025-01-14 00:00:00  \n",
      "3        2023  2025-01-14 00:00:00  \n",
      "4        2023  2025-01-14 00:00:00  \n",
      "...       ...                  ...  \n",
      "14003    1960  2025-01-14 00:00:00  \n",
      "14004    1960  2025-01-14 00:00:00  \n",
      "14005    1960  2025-01-14 00:00:00  \n",
      "14006    1960  2025-01-14 00:00:00  \n",
      "14007    1960  2025-01-14 00:00:00  \n",
      "\n",
      "[14008 rows x 4 columns]\n"
     ]
    }
   ],
   "source": [
    "print(df1[['ParentLocation', 'Location', 'Period', 'DateModified']])"
   ]
  },
  {
   "cell_type": "markdown",
   "id": "55a55afc-5133-4a4c-bba1-ef164fe60d2a",
   "metadata": {},
   "source": [
    "# PANDA Data Structure"
   ]
  },
  {
   "cell_type": "markdown",
   "id": "ba3ff759-b001-47a0-894a-94ee08ae5ad5",
   "metadata": {},
   "source": [
    "## Series\n",
    "<p>One Dimensional labeled array</p>"
   ]
  },
  {
   "cell_type": "code",
   "execution_count": 25,
   "id": "263226db-062c-4bc2-a7db-a50745b62eee",
   "metadata": {},
   "outputs": [
    {
     "name": "stdout",
     "output_type": "stream",
     "text": [
      "0    10\n",
      "1    20\n",
      "2    30\n",
      "3    40\n",
      "4    50\n",
      "dtype: int64\n"
     ]
    }
   ],
   "source": [
    "# Creating a series from a list\n",
    "seriesData = [10,20, 30, 40, 50]\n",
    "mySeries = pd.Series(seriesData)\n",
    "print(mySeries)"
   ]
  },
  {
   "cell_type": "markdown",
   "id": "13992629-0d0a-454f-9a47-08426ac37eb8",
   "metadata": {},
   "source": [
    "### Accessing elements in a series"
   ]
  },
  {
   "cell_type": "code",
   "execution_count": 26,
   "id": "6b881c0a-e7f1-4187-bb52-dfe6837450df",
   "metadata": {},
   "outputs": [
    {
     "name": "stdout",
     "output_type": "stream",
     "text": [
      "30\n"
     ]
    }
   ],
   "source": [
    "# By Label\n",
    "print(mySeries[2])"
   ]
  },
  {
   "cell_type": "code",
   "execution_count": 27,
   "id": "c0d6567f-5466-4509-8797-7859f20fc059",
   "metadata": {},
   "outputs": [
    {
     "name": "stdout",
     "output_type": "stream",
     "text": [
      "30\n"
     ]
    }
   ],
   "source": [
    "# By position\n",
    "print(mySeries.iloc[2])"
   ]
  },
  {
   "cell_type": "code",
   "execution_count": 28,
   "id": "048c2e09-6ca5-4518-a349-6920f9327eb4",
   "metadata": {},
   "outputs": [
    {
     "name": "stdout",
     "output_type": "stream",
     "text": [
      "1    20\n",
      "2    30\n",
      "3    40\n",
      "dtype: int64\n"
     ]
    }
   ],
   "source": [
    "# Accessing multiple elements\n",
    "print(mySeries[1:4])"
   ]
  },
  {
   "cell_type": "markdown",
   "id": "6dbe60b5-e13d-434e-b8db-1ec989286bc7",
   "metadata": {},
   "source": [
    "## DataFrames\n",
    "<p>A two-dimensional labeled data structure with columns of potentially different data types.</p>"
   ]
  },
  {
   "cell_type": "code",
   "execution_count": 3,
   "id": "882a9b4e-2b7f-47b3-9641-302d3f3cbc4b",
   "metadata": {},
   "outputs": [
    {
     "name": "stdout",
     "output_type": "stream",
     "text": [
      "      Names  Age       City\n",
      "0  Innocent   30       Woji\n",
      "1  Chidinma   29       Awka\n",
      "2    Tamuno   28      Choba\n",
      "3     Shola   30  Artillery\n",
      "4       Joy   27    Onitsha\n"
     ]
    }
   ],
   "source": [
    "# creating dataFrames\n",
    "frameData = {'Names': ['Innocent','Chidinma','Tamuno','Shola','Joy'],\n",
    "             'Age': [30,29,28,30,27],\n",
    "             'City': ['Woji','Awka','Choba','Artillery','Onitsha']}\n",
    "df = pd.DataFrame(frameData)\n",
    "print(df)"
   ]
  },
  {
   "cell_type": "code",
   "execution_count": 6,
   "id": "e9fb61b1-a574-48fa-8e54-fb06b6a00364",
   "metadata": {},
   "outputs": [
    {
     "data": {
      "text/plain": [
       "{'Names': ['Innocent', 'Chidinma', 'Tamuno', 'Shola', 'Joy'],\n",
       " 'Age': [30, 29, 28, 30, 27],\n",
       " 'City': ['Woji', 'Awka', 'Choba', 'Artillery', 'Onitsha'],\n",
       " 'Gender': ['Male', 'Female', 'Female', 'Male', 'Female']}"
      ]
     },
     "execution_count": 6,
     "metadata": {},
     "output_type": "execute_result"
    }
   ],
   "source": [
    "frameData['Gender'] = ['Male', 'Female', 'Female', 'Male', 'Female']\n",
    "frameData"
   ]
  },
  {
   "cell_type": "code",
   "execution_count": 32,
   "id": "72208fb7-6729-46b7-9135-aa05bfd8dc11",
   "metadata": {},
   "outputs": [
    {
     "name": "stdout",
     "output_type": "stream",
     "text": [
      "0    30\n",
      "1    29\n",
      "2    28\n",
      "3    30\n",
      "4    27\n",
      "Name: Age, dtype: int64\n"
     ]
    }
   ],
   "source": [
    "# Column Selection >>>> using the column name as key but in quote\n",
    "print(df['Age'])"
   ]
  },
  {
   "cell_type": "code",
   "execution_count": 37,
   "id": "7fefe564-c072-4f56-ac39-1ecf377ea5d7",
   "metadata": {},
   "outputs": [
    {
     "name": "stdout",
     "output_type": "stream",
     "text": [
      "Names    Tamuno\n",
      "Age          28\n",
      "City      Choba\n",
      "Name: 2, dtype: object\n",
      "\n",
      " Names        Shola\n",
      "Age             30\n",
      "City     Artillery\n",
      "Name: 3, dtype: object\n"
     ]
    }
   ],
   "source": [
    "# Accessing Rows  >>>> By using .iloc[] or loc[]\n",
    "# .iloc[] for accessing rows by index\n",
    "print(df.iloc[2])\n",
    "\n",
    "# .loc[] for accessing by label\n",
    "print(\"\\n\",df.loc[3])\n"
   ]
  },
  {
   "cell_type": "code",
   "execution_count": 38,
   "id": "6b26fe5e-71e8-4ce3-9e54-d6144746f906",
   "metadata": {},
   "outputs": [
    {
     "name": "stdout",
     "output_type": "stream",
     "text": [
      "      Names  Age\n",
      "0  Innocent   30\n",
      "1  Chidinma   29\n",
      "2    Tamuno   28\n",
      "3     Shola   30\n",
      "4       Joy   27\n"
     ]
    }
   ],
   "source": [
    "# Slicing\n",
    "print(df[['Names', 'Age']])  # Select specific columns"
   ]
  },
  {
   "cell_type": "code",
   "execution_count": 39,
   "id": "12948731-a350-4910-879a-426715135f63",
   "metadata": {},
   "outputs": [
    {
     "name": "stdout",
     "output_type": "stream",
     "text": [
      "      Names  Age   City\n",
      "1  Chidinma   29   Awka\n",
      "2    Tamuno   28  Choba\n"
     ]
    }
   ],
   "source": [
    "# select specific rows\n",
    "print(df[1:3])"
   ]
  },
  {
   "cell_type": "code",
   "execution_count": 44,
   "id": "9117f3b5-8693-4500-ae27-2c5319e45fc3",
   "metadata": {},
   "outputs": [
    {
     "name": "stdout",
     "output_type": "stream",
     "text": [
      "Awka\n"
     ]
    }
   ],
   "source": [
    "print(df.iloc[1,2])"
   ]
  },
  {
   "cell_type": "code",
   "execution_count": 45,
   "id": "0f58a0f9-9ca8-4254-9a45-71cc2c033268",
   "metadata": {},
   "outputs": [
    {
     "data": {
      "text/plain": [
       "array(['Innocent', 'Chidinma', 'Tamuno', 'Shola', 'Joy'], dtype=object)"
      ]
     },
     "execution_count": 45,
     "metadata": {},
     "output_type": "execute_result"
    }
   ],
   "source": [
    "# finding Unique elements\n",
    "uniqueNames = df['Names'].unique()\n",
    "uniqueNames"
   ]
  },
  {
   "cell_type": "code",
   "execution_count": 46,
   "id": "283f1a18-7a85-411a-925e-08c680996cf8",
   "metadata": {},
   "outputs": [],
   "source": [
    "# Saving DataFrames to a CSV file\n",
    "df.to_csv('panda_dataFrames.csv', index = False)"
   ]
  },
  {
   "cell_type": "code",
   "execution_count": 7,
   "id": "37c4b296-9bb3-4faf-8ae3-3540d99f4e8b",
   "metadata": {},
   "outputs": [
    {
     "name": "stdout",
     "output_type": "stream",
     "text": [
      "      Names  Age       City  Gender\n",
      "0  Innocent   30       Woji    Male\n",
      "1  Chidinma   29       Awka  Female\n",
      "2    Tamuno   28      Choba  Female\n",
      "3     Shola   30  Artillery    Male\n",
      "4       Joy   27    Onitsha  Female\n"
     ]
    }
   ],
   "source": [
    "df = pd.DataFrame(frameData)\n",
    "print(df)"
   ]
  },
  {
   "cell_type": "code",
   "execution_count": 8,
   "id": "1f76d463-faec-4f72-b68f-7c47f0f17692",
   "metadata": {},
   "outputs": [
    {
     "data": {
      "text/html": [
       "<div>\n",
       "<style scoped>\n",
       "    .dataframe tbody tr th:only-of-type {\n",
       "        vertical-align: middle;\n",
       "    }\n",
       "\n",
       "    .dataframe tbody tr th {\n",
       "        vertical-align: top;\n",
       "    }\n",
       "\n",
       "    .dataframe thead th {\n",
       "        text-align: right;\n",
       "    }\n",
       "</style>\n",
       "<table border=\"1\" class=\"dataframe\">\n",
       "  <thead>\n",
       "    <tr style=\"text-align: right;\">\n",
       "      <th></th>\n",
       "      <th>Names</th>\n",
       "      <th>Age</th>\n",
       "      <th>City</th>\n",
       "      <th>Gender</th>\n",
       "    </tr>\n",
       "  </thead>\n",
       "  <tbody>\n",
       "    <tr>\n",
       "      <th>0</th>\n",
       "      <td>Innocent</td>\n",
       "      <td>30</td>\n",
       "      <td>Woji</td>\n",
       "      <td>Male</td>\n",
       "    </tr>\n",
       "    <tr>\n",
       "      <th>1</th>\n",
       "      <td>Chidinma</td>\n",
       "      <td>29</td>\n",
       "      <td>Awka</td>\n",
       "      <td>Female</td>\n",
       "    </tr>\n",
       "    <tr>\n",
       "      <th>2</th>\n",
       "      <td>Tamuno</td>\n",
       "      <td>28</td>\n",
       "      <td>Choba</td>\n",
       "      <td>Female</td>\n",
       "    </tr>\n",
       "    <tr>\n",
       "      <th>3</th>\n",
       "      <td>Shola</td>\n",
       "      <td>30</td>\n",
       "      <td>Artillery</td>\n",
       "      <td>Male</td>\n",
       "    </tr>\n",
       "    <tr>\n",
       "      <th>4</th>\n",
       "      <td>Joy</td>\n",
       "      <td>27</td>\n",
       "      <td>Onitsha</td>\n",
       "      <td>Female</td>\n",
       "    </tr>\n",
       "  </tbody>\n",
       "</table>\n",
       "</div>"
      ],
      "text/plain": [
       "      Names  Age       City  Gender\n",
       "0  Innocent   30       Woji    Male\n",
       "1  Chidinma   29       Awka  Female\n",
       "2    Tamuno   28      Choba  Female\n",
       "3     Shola   30  Artillery    Male\n",
       "4       Joy   27    Onitsha  Female"
      ]
     },
     "execution_count": 8,
     "metadata": {},
     "output_type": "execute_result"
    }
   ],
   "source": [
    "df.head()"
   ]
  },
  {
   "cell_type": "code",
   "execution_count": 11,
   "id": "15f8ecee-079e-4dfb-ab3c-a0ed5cd0b9d6",
   "metadata": {},
   "outputs": [
    {
     "data": {
      "text/plain": [
       "Age    28.8\n",
       "dtype: float64"
      ]
     },
     "execution_count": 11,
     "metadata": {},
     "output_type": "execute_result"
    }
   ],
   "source": [
    "df[['Age']].mean()"
   ]
  },
  {
   "cell_type": "code",
   "execution_count": null,
   "id": "324cfe8b-53bb-4678-a1d4-643a7ae7b0c5",
   "metadata": {},
   "outputs": [],
   "source": []
  }
 ],
 "metadata": {
  "kernelspec": {
   "display_name": "Python 3 (ipykernel)",
   "language": "python",
   "name": "python3"
  },
  "language_info": {
   "codemirror_mode": {
    "name": "ipython",
    "version": 3
   },
   "file_extension": ".py",
   "mimetype": "text/x-python",
   "name": "python",
   "nbconvert_exporter": "python",
   "pygments_lexer": "ipython3",
   "version": "3.12.7"
  }
 },
 "nbformat": 4,
 "nbformat_minor": 5
}
